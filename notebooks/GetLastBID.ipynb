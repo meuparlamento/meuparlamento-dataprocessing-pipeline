{
 "cells": [
  {
   "cell_type": "code",
   "execution_count": 3,
   "metadata": {},
   "outputs": [],
   "source": [
    "from lxml import html\n",
    "import requests\n",
    "import lxml\n",
    "from lxml import etree"
   ]
  },
  {
   "cell_type": "code",
   "execution_count": 6,
   "metadata": {},
   "outputs": [],
   "source": [
    "import re\n",
    "\n",
    "# Last entries\n",
    "url = \"https://www.parlamento.pt/Paginas/UltimasIniciativasEntradas.aspx\"\n",
    "\n",
    "page = requests.get(url)\n",
    "pg = re.sub(\"\\<strong\\>\",\"\",page.content)\n",
    "pg = re.sub(\"\\<\\/strong\\>\",\"\",pg)\n",
    "tree = html.fromstring(pg)\n"
   ]
  },
  {
   "cell_type": "code",
   "execution_count": 23,
   "metadata": {},
   "outputs": [
    {
     "name": "stdout",
     "output_type": "stream",
     "text": [
      "/ActividadeParlamentar/Paginas/DetalheIniciativa.aspx?BID=44450\n"
     ]
    }
   ],
   "source": [
    "lastentry = tree.xpath(\"//a[contains(@title, 'Detalhe de Iniciativa')]\")\n",
    "\n",
    "hyperlink = lastentry[0].get(\"href\")\n",
    "\n",
    "print(hyperlink)\n"
   ]
  },
  {
   "cell_type": "code",
   "execution_count": 27,
   "metadata": {},
   "outputs": [
    {
     "name": "stdout",
     "output_type": "stream",
     "text": [
      "44450\n"
     ]
    }
   ],
   "source": [
    "import re\n",
    "\n",
    "lastBID = int(re.sub(\".+\\?BID=\",\"\",hyperlink))\n",
    "\n",
    "print(lastBID)"
   ]
  },
  {
   "cell_type": "code",
   "execution_count": null,
   "metadata": {},
   "outputs": [],
   "source": [
    "# 1. Get the last (highest) BID - x - in the Database\n",
    "# 2. Run Proposal-Fetch Script from x until lastBID & Update Database"
   ]
  }
 ],
 "metadata": {
  "kernelspec": {
   "display_name": "'Python Interactive'",
   "language": "python",
   "name": "1526e213-26b1-4e77-9578-25c38432943c"
  },
  "language_info": {
   "codemirror_mode": {
    "name": "ipython",
    "version": 3
   },
   "file_extension": ".py",
   "mimetype": "text/x-python",
   "name": "python",
   "nbconvert_exporter": "python",
   "pygments_lexer": "ipython3",
   "version": "3.6.8"
  }
 },
 "nbformat": 4,
 "nbformat_minor": 2
}
