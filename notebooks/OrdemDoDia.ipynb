{
 "cells": [
  {
   "cell_type": "code",
   "execution_count": 5,
   "metadata": {},
   "outputs": [
    {
     "name": "stdout",
     "output_type": "stream",
     "text": [
      "Collecting lxml\n",
      "\u001b[?25l  Downloading https://files.pythonhosted.org/packages/a9/f5/92964ed278c48360a4fa628e16bcc351d1f3b77e9c31ba06571862d97a38/lxml-4.5.0-cp36-cp36m-macosx_10_9_x86_64.whl (4.6MB)\n",
      "\u001b[K    100% |████████████████████████████████| 4.6MB 2.3MB/s \n",
      "\u001b[?25hInstalling collected packages: lxml\n",
      "Successfully installed lxml-4.5.0\n",
      "\u001b[33mYou are using pip version 10.0.1, however version 20.0.2 is available.\n",
      "You should consider upgrading via the 'pip install --upgrade pip' command.\u001b[0m\n"
     ]
    }
   ],
   "source": [
    "!pip install lxml"
   ]
  },
  {
   "cell_type": "code",
   "execution_count": 7,
   "metadata": {},
   "outputs": [],
   "source": [
    "from lxml import html\n",
    "import requests\n",
    "import lxml\n",
    "from lxml import etree"
   ]
  },
  {
   "cell_type": "code",
   "execution_count": 11,
   "metadata": {},
   "outputs": [],
   "source": [
    "import re\n",
    "\n",
    "url = \"http://app.parlamento.pt/BI2/\"\n",
    "\n",
    "\"\"\"\n",
    "For testing:\n",
    "https://arquivo.pt/wayback/20151209121800/http://app.parlamento.pt/BI2/\n",
    "https://arquivo.pt/wayback/20140924015720/http://app.parlamento.pt/BI2/\n",
    "\"\"\"\n",
    "\n",
    "page = requests.get(url)\n",
    "\n",
    "pg = re.sub(\"\\<strong\\>\",\"\",str(page.content, \"utf8\"))\n",
    "pg = re.sub(\"\\<\\/strong\\>\",\"\",pg)\n",
    "tree = html.fromstring(pg)"
   ]
  },
  {
   "cell_type": "code",
   "execution_count": 13,
   "metadata": {},
   "outputs": [
    {
     "name": "stdout",
     "output_type": "stream",
     "text": [
      "Inquérito Parlamentar n.º 1/XIV/1.ª (CH)\n"
     ]
    },
    {
     "ename": "AttributeError",
     "evalue": "'HtmlElement' object has no attribute 'href'",
     "output_type": "error",
     "traceback": [
      "\u001b[0;31m---------------------------------------------------------------------------\u001b[0m",
      "\u001b[0;31mAttributeError\u001b[0m                            Traceback (most recent call last)",
      "\u001b[0;32m<ipython-input-13-4e0ad795be7f>\u001b[0m in \u001b[0;36m<module>\u001b[0;34m\u001b[0m\n\u001b[1;32m     43\u001b[0m         \u001b[0;32mif\u001b[0m \u001b[0maux_p\u001b[0m\u001b[0;34m:\u001b[0m\u001b[0;34m\u001b[0m\u001b[0;34m\u001b[0m\u001b[0m\n\u001b[1;32m     44\u001b[0m             \u001b[0mprint\u001b[0m\u001b[0;34m(\u001b[0m\u001b[0maux_p\u001b[0m\u001b[0;34m[\u001b[0m\u001b[0;36m0\u001b[0m\u001b[0;34m]\u001b[0m\u001b[0;34m.\u001b[0m\u001b[0mtext\u001b[0m\u001b[0;34m)\u001b[0m\u001b[0;34m\u001b[0m\u001b[0;34m\u001b[0m\u001b[0m\n\u001b[0;32m---> 45\u001b[0;31m             \u001b[0mprint\u001b[0m\u001b[0;34m(\u001b[0m\u001b[0maux_p\u001b[0m\u001b[0;34m[\u001b[0m\u001b[0;36m0\u001b[0m\u001b[0;34m]\u001b[0m\u001b[0;34m.\u001b[0m\u001b[0mhref\u001b[0m\u001b[0;34m)\u001b[0m\u001b[0;34m\u001b[0m\u001b[0;34m\u001b[0m\u001b[0m\n\u001b[0m\u001b[1;32m     46\u001b[0m \u001b[0;34m\u001b[0m\u001b[0m\n\u001b[1;32m     47\u001b[0m         \"\"\"\n",
      "\u001b[0;31mAttributeError\u001b[0m: 'HtmlElement' object has no attribute 'href'"
     ]
    }
   ],
   "source": [
    "ag_day = -1 # index for the day's agenda section\n",
    "#ag_future = -1 # index for future agenda section\n",
    "\n",
    "ag_day = tree.xpath(\"//table[contains(@title, 'Agenda do Dia')]\")\n",
    "#ag_future = tree.xpath(\"//table[contains(@title, 'Agendamentos Futuros')]\")\n",
    "\n",
    "tlbs = tree.xpath(\"//table[contains(@class, 'TabTitulBolInf2')]\")\n",
    "#print(len(tlbs))\n",
    "\n",
    "#print(\"ID for ag_day: \" + str(ag_day))\n",
    "#print(\"ID for ag_future: \" + str(ag_future))\n",
    "\n",
    "if ag_day:\n",
    "    \n",
    "    day_element = ag_day[0].getnext()\n",
    "\n",
    "#    print(html.tostring(day_element))\n",
    "\n",
    "    day_element2 = day_element.xpath(\".//td[contains(@class,'ConteudoSubtitulo')]\")\n",
    "\n",
    "    day_txt = day_element2[0].text\n",
    "    day_txt = re.sub(\"DIA\",\"\",day_txt)\n",
    "    day_txt = re.sub(\"\\(.*\",\"\",day_txt).strip() \n",
    "\n",
    "    \"\"\"\n",
    "    Attention.\n",
    "    When years change, there is no indication of that in the text (See December 27th 2017 for example)\n",
    "    \"\"\"\n",
    "    \n",
    "    main_content = day_element.getnext()\n",
    "    \n",
    "#    print(html.tostring(main_content))\n",
    "    \n",
    "    aux = main_content.xpath(\".//td[contains(@class,'ConteudoPlenarioTexto')]\")\n",
    "    \n",
    "    for i in range(len(aux)):\n",
    "        #print(i)\n",
    "        #print(html.tostring(aux[i]))\n",
    "        \n",
    "        aux_p = aux[i].xpath(\".//a\")\n",
    "\n",
    "        \n",
    "        if aux_p:\n",
    "            print(aux_p[0].text)\n",
    "            print(aux_p[0].href)\n",
    "        \n",
    "        \"\"\"\n",
    "        Problem: we need to encode the result as utf8.\n",
    "        \"\"\"\n",
    "\n",
    "\n",
    "#if ag_future:\n",
    "#    # ...\n",
    "#    print(\"cenas\")\n"
   ]
  },
  {
   "cell_type": "code",
   "execution_count": null,
   "metadata": {},
   "outputs": [],
   "source": []
  }
 ],
 "metadata": {
  "kernelspec": {
   "display_name": "Python 3",
   "language": "python",
   "name": "python3"
  },
  "language_info": {
   "codemirror_mode": {
    "name": "ipython",
    "version": 3
   },
   "file_extension": ".py",
   "mimetype": "text/x-python",
   "name": "python",
   "nbconvert_exporter": "python",
   "pygments_lexer": "ipython3",
   "version": "3.7.1"
  }
 },
 "nbformat": 4,
 "nbformat_minor": 2
}
