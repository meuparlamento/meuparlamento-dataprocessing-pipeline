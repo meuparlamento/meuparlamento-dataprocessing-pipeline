{
 "cells": [
  {
   "cell_type": "code",
   "execution_count": 2,
   "metadata": {},
   "outputs": [],
   "source": [
    "from lxml import html\n",
    "import requests\n",
    "import lxml\n",
    "from lxml import etree"
   ]
  },
  {
   "cell_type": "code",
   "execution_count": 8,
   "metadata": {},
   "outputs": [],
   "source": [
    "import re\n",
    "\n",
    "url = \"https://arquivo.pt/wayback/20151209121800/http://app.parlamento.pt/BI2/\"\n",
    "# url = \"https://arquivo.pt/wayback/20151209121800/http://app.parlamento.pt/BI2/\"\n",
    "\n",
    "\"\"\"\n",
    "For testing:\n",
    "https://arquivo.pt/wayback/20151209121800/http://app.parlamento.pt/BI2/\n",
    "https://arquivo.pt/wayback/20140924015720/http://app.parlamento.pt/BI2/\n",
    "\"\"\"\n",
    "\n",
    "page = requests.get(url)\n",
    "pg = re.sub(\"\\<strong\\>\",\"\",str(page.content, \"utf8\"))\n",
    "pg = re.sub(\"\\<\\/strong\\>\",\"\",pg)\n",
    "tree = html.fromstring(pg)\n"
   ]
  },
  {
   "cell_type": "code",
   "execution_count": 7,
   "metadata": {},
   "outputs": [],
   "source": [
    "ag_day = -1 # index for the day's agenda section\n",
    "#ag_future = -1 # index for future agenda section\n",
    "\n",
    "ag_day = tree.xpath(\"//table[contains(@title, 'Agenda do Dia')]\")\n",
    "#ag_future = tree.xpath(\"//table[contains(@title, 'Agendamentos Futuros')]\")\n",
    "\n",
    "tlbs = tree.xpath(\"//table[contains(@class, 'TabTitulBolInf2')]\")\n",
    "#print(len(tlbs))\n",
    "\n",
    "#print(\"ID for ag_day: \" + str(ag_day))\n",
    "#print(\"ID for ag_future: \" + str(ag_future))\n",
    "\n",
    "if ag_day:\n",
    "    \n",
    "    day_element = ag_day[0].getnext()\n",
    "\n",
    "#    print(html.tostring(day_element))\n",
    "\n",
    "    day_element2 = day_element.xpath(\".//td[contains(@class,'ConteudoSubtitulo')]\")\n",
    "\n",
    "    day_txt = day_element2[0].text\n",
    "    day_txt = re.sub(\"DIA\",\"\",day_txt)\n",
    "    day_txt = re.sub(\"\\(.*\",\"\",day_txt).strip() \n",
    "\n",
    "    \"\"\"\n",
    "    Attention.\n",
    "    When years change, there is no indication of that in the text (See December 27th 2017 for example)\n",
    "    \"\"\"\n",
    "    \n",
    "    main_content = day_element.getnext()\n",
    "    \n",
    "#    print(html.tostring(main_content))\n",
    "    \n",
    "    aux = main_content.xpath(\".//td[contains(@class,'ConteudoPlenarioTexto')]\")\n",
    "    \n",
    "    for i in range(len(aux)):\n",
    "        #print(i)\n",
    "        #print(html.tostring(aux[i]))\n",
    "        \n",
    "        aux_p = aux[i].xpath(\".//a\")\n",
    "\n",
    "        \n",
    "        if aux_p:\n",
    "            lex = aux_p[0].text\n",
    "            print(re.sub(\"\\(.+\",\"\",lex))\n",
    "        \n",
    "        \"\"\"\n",
    "        Problem: we need to encode the result as utf8.\n",
    "        \"\"\"\n",
    "\n",
    "\n",
    "#if ag_future:\n",
    "#    # ...\n",
    "#    print(\"cenas\")\n"
   ]
  },
  {
   "cell_type": "code",
   "execution_count": null,
   "metadata": {},
   "outputs": [],
   "source": []
  }
 ],
 "metadata": {
  "kernelspec": {
   "display_name": "Python 3",
   "language": "python",
   "name": "python3"
  },
  "language_info": {
   "codemirror_mode": {
    "name": "ipython",
    "version": 3
   },
   "file_extension": ".py",
   "mimetype": "text/x-python",
   "name": "python",
   "nbconvert_exporter": "python",
   "pygments_lexer": "ipython3",
   "version": "3.7.1"
  }
 },
 "nbformat": 4,
 "nbformat_minor": 2
}
